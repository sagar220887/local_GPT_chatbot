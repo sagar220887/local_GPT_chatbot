{
 "cells": [
  {
   "cell_type": "code",
   "execution_count": 1,
   "metadata": {},
   "outputs": [
    {
     "name": "stdout",
     "output_type": "stream",
     "text": [
      "Collecting accelerate==0.20.3\n",
      "  Downloading accelerate-0.20.3-py3-none-any.whl.metadata (17 kB)\n",
      "Requirement already satisfied: numpy>=1.17 in c:\\users\\lenovo\\sagar\\work\\ai_ml\\gitrepo\\aiml\\genai\\youtubes\\llm_llama2\\venv\\lib\\site-packages (from accelerate==0.20.3) (1.26.4)\n",
      "Requirement already satisfied: packaging>=20.0 in c:\\users\\lenovo\\sagar\\work\\ai_ml\\gitrepo\\aiml\\genai\\youtubes\\llm_llama2\\venv\\lib\\site-packages (from accelerate==0.20.3) (23.2)\n",
      "Requirement already satisfied: psutil in c:\\users\\lenovo\\sagar\\work\\ai_ml\\gitrepo\\aiml\\genai\\youtubes\\llm_llama2\\venv\\lib\\site-packages (from accelerate==0.20.3) (5.9.8)\n",
      "Requirement already satisfied: pyyaml in c:\\users\\lenovo\\sagar\\work\\ai_ml\\gitrepo\\aiml\\genai\\youtubes\\llm_llama2\\venv\\lib\\site-packages (from accelerate==0.20.3) (6.0.1)\n",
      "Requirement already satisfied: torch>=1.6.0 in c:\\users\\lenovo\\sagar\\work\\ai_ml\\gitrepo\\aiml\\genai\\youtubes\\llm_llama2\\venv\\lib\\site-packages (from accelerate==0.20.3) (2.2.1)\n",
      "Requirement already satisfied: filelock in c:\\users\\lenovo\\sagar\\work\\ai_ml\\gitrepo\\aiml\\genai\\youtubes\\llm_llama2\\venv\\lib\\site-packages (from torch>=1.6.0->accelerate==0.20.3) (3.13.1)\n",
      "Requirement already satisfied: typing-extensions>=4.8.0 in c:\\users\\lenovo\\sagar\\work\\ai_ml\\gitrepo\\aiml\\genai\\youtubes\\llm_llama2\\venv\\lib\\site-packages (from torch>=1.6.0->accelerate==0.20.3) (4.9.0)\n",
      "Requirement already satisfied: sympy in c:\\users\\lenovo\\sagar\\work\\ai_ml\\gitrepo\\aiml\\genai\\youtubes\\llm_llama2\\venv\\lib\\site-packages (from torch>=1.6.0->accelerate==0.20.3) (1.12)\n",
      "Requirement already satisfied: networkx in c:\\users\\lenovo\\sagar\\work\\ai_ml\\gitrepo\\aiml\\genai\\youtubes\\llm_llama2\\venv\\lib\\site-packages (from torch>=1.6.0->accelerate==0.20.3) (3.2.1)\n",
      "Requirement already satisfied: jinja2 in c:\\users\\lenovo\\sagar\\work\\ai_ml\\gitrepo\\aiml\\genai\\youtubes\\llm_llama2\\venv\\lib\\site-packages (from torch>=1.6.0->accelerate==0.20.3) (3.1.3)\n",
      "Requirement already satisfied: fsspec in c:\\users\\lenovo\\sagar\\work\\ai_ml\\gitrepo\\aiml\\genai\\youtubes\\llm_llama2\\venv\\lib\\site-packages (from torch>=1.6.0->accelerate==0.20.3) (2024.2.0)\n",
      "Requirement already satisfied: MarkupSafe>=2.0 in c:\\users\\lenovo\\sagar\\work\\ai_ml\\gitrepo\\aiml\\genai\\youtubes\\llm_llama2\\venv\\lib\\site-packages (from jinja2->torch>=1.6.0->accelerate==0.20.3) (2.1.5)\n",
      "Requirement already satisfied: mpmath>=0.19 in c:\\users\\lenovo\\sagar\\work\\ai_ml\\gitrepo\\aiml\\genai\\youtubes\\llm_llama2\\venv\\lib\\site-packages (from sympy->torch>=1.6.0->accelerate==0.20.3) (1.3.0)\n",
      "Downloading accelerate-0.20.3-py3-none-any.whl (227 kB)\n",
      "   ---------------------------------------- 0.0/227.6 kB ? eta -:--:--\n",
      "   ---------------------------------------  225.3/227.6 kB 4.6 MB/s eta 0:00:01\n",
      "   ---------------------------------------- 227.6/227.6 kB 4.6 MB/s eta 0:00:00\n",
      "Installing collected packages: accelerate\n",
      "  Attempting uninstall: accelerate\n",
      "    Found existing installation: accelerate 0.27.2\n",
      "    Uninstalling accelerate-0.27.2:\n",
      "      Successfully uninstalled accelerate-0.27.2\n",
      "Successfully installed accelerate-0.20.3\n"
     ]
    }
   ],
   "source": [
    "! pip install accelerate==0.20.3"
   ]
  },
  {
   "cell_type": "code",
   "execution_count": 2,
   "metadata": {},
   "outputs": [
    {
     "name": "stdout",
     "output_type": "stream",
     "text": [
      "Requirement already satisfied: transformers in c:\\users\\lenovo\\sagar\\work\\ai_ml\\gitrepo\\aiml\\genai\\youtubes\\llm_llama2\\venv\\lib\\site-packages (4.38.2)\n",
      "Requirement already satisfied: filelock in c:\\users\\lenovo\\sagar\\work\\ai_ml\\gitrepo\\aiml\\genai\\youtubes\\llm_llama2\\venv\\lib\\site-packages (from transformers) (3.13.1)\n",
      "Requirement already satisfied: huggingface-hub<1.0,>=0.19.3 in c:\\users\\lenovo\\sagar\\work\\ai_ml\\gitrepo\\aiml\\genai\\youtubes\\llm_llama2\\venv\\lib\\site-packages (from transformers) (0.20.3)\n",
      "Requirement already satisfied: numpy>=1.17 in c:\\users\\lenovo\\sagar\\work\\ai_ml\\gitrepo\\aiml\\genai\\youtubes\\llm_llama2\\venv\\lib\\site-packages (from transformers) (1.26.4)\n",
      "Requirement already satisfied: packaging>=20.0 in c:\\users\\lenovo\\sagar\\work\\ai_ml\\gitrepo\\aiml\\genai\\youtubes\\llm_llama2\\venv\\lib\\site-packages (from transformers) (23.2)\n",
      "Requirement already satisfied: pyyaml>=5.1 in c:\\users\\lenovo\\sagar\\work\\ai_ml\\gitrepo\\aiml\\genai\\youtubes\\llm_llama2\\venv\\lib\\site-packages (from transformers) (6.0.1)\n",
      "Requirement already satisfied: regex!=2019.12.17 in c:\\users\\lenovo\\sagar\\work\\ai_ml\\gitrepo\\aiml\\genai\\youtubes\\llm_llama2\\venv\\lib\\site-packages (from transformers) (2023.12.25)\n",
      "Requirement already satisfied: requests in c:\\users\\lenovo\\sagar\\work\\ai_ml\\gitrepo\\aiml\\genai\\youtubes\\llm_llama2\\venv\\lib\\site-packages (from transformers) (2.31.0)\n",
      "Requirement already satisfied: tokenizers<0.19,>=0.14 in c:\\users\\lenovo\\sagar\\work\\ai_ml\\gitrepo\\aiml\\genai\\youtubes\\llm_llama2\\venv\\lib\\site-packages (from transformers) (0.15.2)\n",
      "Requirement already satisfied: safetensors>=0.4.1 in c:\\users\\lenovo\\sagar\\work\\ai_ml\\gitrepo\\aiml\\genai\\youtubes\\llm_llama2\\venv\\lib\\site-packages (from transformers) (0.4.2)\n",
      "Requirement already satisfied: tqdm>=4.27 in c:\\users\\lenovo\\sagar\\work\\ai_ml\\gitrepo\\aiml\\genai\\youtubes\\llm_llama2\\venv\\lib\\site-packages (from transformers) (4.66.2)\n",
      "Requirement already satisfied: fsspec>=2023.5.0 in c:\\users\\lenovo\\sagar\\work\\ai_ml\\gitrepo\\aiml\\genai\\youtubes\\llm_llama2\\venv\\lib\\site-packages (from huggingface-hub<1.0,>=0.19.3->transformers) (2024.2.0)\n",
      "Requirement already satisfied: typing-extensions>=3.7.4.3 in c:\\users\\lenovo\\sagar\\work\\ai_ml\\gitrepo\\aiml\\genai\\youtubes\\llm_llama2\\venv\\lib\\site-packages (from huggingface-hub<1.0,>=0.19.3->transformers) (4.9.0)\n",
      "Requirement already satisfied: colorama in c:\\users\\lenovo\\sagar\\work\\ai_ml\\gitrepo\\aiml\\genai\\youtubes\\llm_llama2\\venv\\lib\\site-packages (from tqdm>=4.27->transformers) (0.4.6)\n",
      "Requirement already satisfied: charset-normalizer<4,>=2 in c:\\users\\lenovo\\sagar\\work\\ai_ml\\gitrepo\\aiml\\genai\\youtubes\\llm_llama2\\venv\\lib\\site-packages (from requests->transformers) (3.3.2)\n",
      "Requirement already satisfied: idna<4,>=2.5 in c:\\users\\lenovo\\sagar\\work\\ai_ml\\gitrepo\\aiml\\genai\\youtubes\\llm_llama2\\venv\\lib\\site-packages (from requests->transformers) (3.6)\n",
      "Requirement already satisfied: urllib3<3,>=1.21.1 in c:\\users\\lenovo\\sagar\\work\\ai_ml\\gitrepo\\aiml\\genai\\youtubes\\llm_llama2\\venv\\lib\\site-packages (from requests->transformers) (1.26.18)\n",
      "Requirement already satisfied: certifi>=2017.4.17 in c:\\users\\lenovo\\sagar\\work\\ai_ml\\gitrepo\\aiml\\genai\\youtubes\\llm_llama2\\venv\\lib\\site-packages (from requests->transformers) (2024.2.2)\n"
     ]
    }
   ],
   "source": [
    "! pip install transformers"
   ]
  },
  {
   "cell_type": "code",
   "execution_count": 3,
   "metadata": {},
   "outputs": [
    {
     "name": "stderr",
     "output_type": "stream",
     "text": [
      "c:\\Users\\LENOVO\\sagar\\work\\AI_ML\\gitrepo\\AIML\\GenAI\\YOUTUBES\\LLM_Llama2\\venv\\Lib\\site-packages\\tqdm\\auto.py:21: TqdmWarning: IProgress not found. Please update jupyter and ipywidgets. See https://ipywidgets.readthedocs.io/en/stable/user_install.html\n",
      "  from .autonotebook import tqdm as notebook_tqdm\n",
      "tokenizer_config.json: 100%|██████████| 967/967 [00:00<?, ?B/s] \n",
      "c:\\Users\\LENOVO\\sagar\\work\\AI_ML\\gitrepo\\AIML\\GenAI\\YOUTUBES\\LLM_Llama2\\venv\\Lib\\site-packages\\huggingface_hub\\file_download.py:149: UserWarning: `huggingface_hub` cache-system uses symlinks by default to efficiently store duplicated files but your machine does not support them in C:\\Users\\LENOVO\\.cache\\huggingface\\hub\\models--mistralai--Mistral-7B-v0.1. Caching files will still work but in a degraded version that might require more space on your disk. This warning can be disabled by setting the `HF_HUB_DISABLE_SYMLINKS_WARNING` environment variable. For more details, see https://huggingface.co/docs/huggingface_hub/how-to-cache#limitations.\n",
      "To support symlinks on Windows, you either need to activate Developer Mode or to run Python as an administrator. In order to see activate developer mode, see this article: https://docs.microsoft.com/en-us/windows/apps/get-started/enable-your-device-for-development\n",
      "  warnings.warn(message)\n",
      "tokenizer.model: 100%|██████████| 493k/493k [00:00<00:00, 5.00MB/s]\n",
      "tokenizer.json: 100%|██████████| 1.80M/1.80M [00:00<00:00, 2.11MB/s]\n",
      "special_tokens_map.json: 100%|██████████| 72.0/72.0 [00:00<?, ?B/s]\n",
      "config.json: 100%|██████████| 571/571 [00:00<00:00, 376kB/s]\n",
      "model.safetensors.index.json: 100%|██████████| 25.1k/25.1k [00:00<?, ?B/s]\n",
      "Downloading shards:   0%|          | 0/2 [00:00<?, ?it/s]"
     ]
    }
   ],
   "source": [
    "from transformers import AutoTokenizer, AutoModelForCausalLM\n",
    "tokenizer = AutoTokenizer.from_pretrained(\"mistralai/Mistral-7B-v0.1\")\n",
    "model = AutoModelForCausalLM.from_pretrained(\"mistralai/Mistral-7B-v0.1\")"
   ]
  },
  {
   "cell_type": "code",
   "execution_count": null,
   "metadata": {},
   "outputs": [],
   "source": [
    "from huggingface_hub import hf_hub_download\n",
    "downloaded_model_path = hf_hub_download(\n",
    "    repo_id=\"mistralai/Mistral-7B-Instruct-v0.2\",\n",
    "    filename=\"sd-v1-4.ckpt\",\n",
    "    use_auth_token=True\n",
    "    )\n",
    "\n",
    "print(downloaded_model_path)"
   ]
  },
  {
   "cell_type": "code",
   "execution_count": null,
   "metadata": {},
   "outputs": [],
   "source": [
    "from transformers import pipeline\n"
   ]
  },
  {
   "cell_type": "code",
   "execution_count": null,
   "metadata": {},
   "outputs": [],
   "source": [
    "nlp = pipeline(\"ner\", model=model, tokenizer=tokenizer)\n",
    "example = \"My name is Wolfgang and I live in Berlin\""
   ]
  },
  {
   "cell_type": "code",
   "execution_count": null,
   "metadata": {},
   "outputs": [],
   "source": [
    "ner_results = nlp(example)\n",
    "print(ner_results)"
   ]
  },
  {
   "cell_type": "code",
   "execution_count": null,
   "metadata": {},
   "outputs": [],
   "source": []
  }
 ],
 "metadata": {
  "kernelspec": {
   "display_name": "Python 3",
   "language": "python",
   "name": "python3"
  },
  "language_info": {
   "codemirror_mode": {
    "name": "ipython",
    "version": 3
   },
   "file_extension": ".py",
   "mimetype": "text/x-python",
   "name": "python",
   "nbconvert_exporter": "python",
   "pygments_lexer": "ipython3",
   "version": "3.11.0"
  }
 },
 "nbformat": 4,
 "nbformat_minor": 2
}
